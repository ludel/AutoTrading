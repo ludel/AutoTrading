{
 "cells": [
  {
   "cell_type": "code",
   "execution_count": null,
   "outputs": [],
   "source": [
    "import itertools\n",
    "\n",
    "import pandas as pd\n",
    "import ta\n",
    "import tensortrade.env.default as default\n",
    "from tensortrade.feed.core import Stream, DataFeed\n",
    "from tensortrade.oms.exchanges import Exchange\n",
    "from tensortrade.oms.instruments import EUR, Instrument\n",
    "from tensortrade.oms.services.execution.simulated import execute_order\n",
    "from tensortrade.oms.wallets import Wallet, Portfolio\n",
    "\n",
    "from agent.A2C import A2C"
   ],
   "metadata": {
    "collapsed": false,
    "pycharm": {
     "name": "#%%\n"
    }
   }
  },
  {
   "cell_type": "code",
   "execution_count": null,
   "outputs": [],
   "source": [
    "MCPHY = Instrument('MCPHY', 2, 'Mcphy energy stock')\n",
    "symbol = 'MCPHY'\n",
    "\n",
    "data = pd.read_csv('../data/mcphy_15m_1mo.csv').drop('Datetime', axis=1)\n",
    "data = ta.add_all_ta_features(data, 'Open', 'High', 'Low', 'Close', 'Volume', fillna=True)\n",
    "data.columns = [symbol + \":\" + name.lower() for name in data.columns]"
   ],
   "metadata": {
    "collapsed": false,
    "pycharm": {
     "name": "#%%\n"
    }
   }
  },
  {
   "cell_type": "code",
   "execution_count": null,
   "outputs": [],
   "source": [
    "data_feed = DataFeed([\n",
    "    Stream.source(list(data[col]), dtype=\"float\") for col in data.columns\n",
    "])\n",
    "exchange = Exchange(\"mcphy\", service=execute_order)(\n",
    "    Stream.source(list(data['MCPHY:close'])).rename(\"EUR-MCPHY\")\n",
    ")\n",
    "renderer_feed = DataFeed([\n",
    "    Stream.source(data[c].tolist(), dtype=\"float\").rename(c) for c in data]\n",
    ")"
   ],
   "metadata": {
    "collapsed": false,
    "pycharm": {
     "name": "#%%\n"
    }
   }
  },
  {
   "cell_type": "code",
   "execution_count": null,
   "outputs": [],
   "source": [
    "best_agent_score = 0\n",
    "best_agent = None\n",
    "for n_steps, n_episodes in itertools.combinations([2, 5, 10, 20, 50, 100], 2):\n",
    "    portfolio = Portfolio(EUR, [\n",
    "        Wallet(exchange, 3_000 * EUR),\n",
    "        Wallet(exchange, 0 * MCPHY)\n",
    "    ])\n",
    "    env = default.create(\n",
    "        portfolio=portfolio,\n",
    "        action_scheme='managed-risk',\n",
    "        reward_scheme='risk-adjusted',\n",
    "        feed=data_feed,\n",
    "        renderer=default.renderers.PlotlyTradingChart(),\n",
    "        window_size=20\n",
    "    )\n",
    "    env.reset()\n",
    "\n",
    "    agent = A2C(env)\n",
    "    agent.train(n_steps=n_steps, n_episodes=n_episodes)\n",
    "    print('Net worth {}'.format(portfolio.net_worth))\n",
    "    if portfolio.net_worth > best_agent_score:\n",
    "        best_agent_score = portfolio.net_worth\n",
    "        best_agent = agent\n",
    "        print('New best agent with {}'.format(best_agent_score))"
   ],
   "metadata": {
    "collapsed": false,
    "pycharm": {
     "name": "#%%\n"
    }
   }
  }
 ],
 "metadata": {
  "kernelspec": {
   "display_name": "Python 3",
   "language": "python",
   "name": "python3"
  },
  "language_info": {
   "codemirror_mode": {
    "name": "ipython",
    "version": 2
   },
   "file_extension": ".py",
   "mimetype": "text/x-python",
   "name": "python",
   "nbconvert_exporter": "python",
   "pygments_lexer": "ipython2",
   "version": "2.7.6"
  }
 },
 "nbformat": 4,
 "nbformat_minor": 0
}